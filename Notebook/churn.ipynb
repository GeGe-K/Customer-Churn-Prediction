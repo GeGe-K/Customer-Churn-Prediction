{
 "cells": [
  {
   "cell_type": "markdown",
   "metadata": {},
   "source": [
    "## CUSTOMER CHURN PREDICTION - Vodafone Coporation"
   ]
  },
  {
   "cell_type": "markdown",
   "metadata": {},
   "source": [
    "### Introduction:\n",
    "Customer churn prediction is a critical task for businesses operating in subscription-based industries such as telecommunications, software as a service (SaaS), and retail. Churn refers to the phenomenon where customers discontinue their relationship with a company or (unsubscribe) stop using its services. It is essential for businesses to identify and understand the factors that contribute to churn in order to take proactive measures to retain customers and maximize revenue."
   ]
  },
  {
   "cell_type": "markdown",
   "metadata": {},
   "source": [
    "### Business Understanding:\n",
    "#### **Project Scenario**\n",
    "\n",
    "In today's world of machine leaening, most companies build classification models to perform churn analysis on their customers. We have been tasked to create a prediction model for a telecommunication compant to help predict if a customer will churn or not. We are also to help them understand their data and know what factors affect the rate at which customers stop using their network to understand their data.\n",
    "\n",
    "#### **Hypothesis**\n",
    " Null hypothesis - There is a dominant attribute that affects churn\n",
    "   \n",
    " \n",
    "Alternative hypothesis - There is no dominant attribute that affects churn\n",
    "\n",
    "#### **Analytical Questions**\n",
    " \n",
    "1. What is the total churn rate?\n",
    "2. How does the different boolean attributes affect the churn?\n",
    "3. How does the different non-boolean attributes affect the churn?\n",
    "4. How does the different numerical attributes affect the churn?\n",
    "5. How does tenure affect the churn?\n",
    "6. How does the type of internet service affect churn?\n",
    "7. How does the type of contract affect the churn?\n",
    "8. How does the type of payment method affect the churn?"
   ]
  },
  {
   "cell_type": "markdown",
   "metadata": {},
   "source": [
    "### Data Understanding:"
   ]
  },
  {
   "cell_type": "markdown",
   "metadata": {},
   "source": [
    "| Variable         | Description                                       | Data Type | Possible Values                          |\n",
    "|------------------|---------------------------------------------------|-----------|------------------------------------------|\n",
    "| customerID       | Unique identifier for each customer               | String    |                                          |\n",
    "| gender           | Gender of the customer                            | String    | 'Male', 'Female'                        |\n",
    "| SeniorCitizen    | Indicates if the customer is a senior citizen     | Boolean   | True (1), False (0)                     |\n",
    "| Partner          | Indicates if the customer has a partner           | Boolean   | True (1), False (0)                     |\n",
    "| Dependents       | Indicates if the customer has dependents          | Boolean   | True (1), False (0)                     |\n",
    "| tenure           | Number of months the customer has been with the company | Integer |                                          |\n",
    "| PhoneService     | Indicates if the customer has phone service       | Boolean   | True (1), False (0)                     |\n",
    "| MultipleLines    | Indicates if the customer has multiple lines      | String    | 'Yes', 'No', 'No phone service'        |\n",
    "| InternetService  | Type of internet service                          | String    | 'DSL', 'Fiber optic', 'No'             |\n",
    "| OnlineSecurity   | Indicates if the customer has online security     | String    | 'Yes', 'No', 'No internet service'     |\n",
    "| DeviceProtection | Indicates if the customer has device protection   | String    | 'Yes', 'No', 'No internet service'     |\n",
    "| TechSupport      | Indicates if the customer has tech support        | String    | 'Yes', 'No', 'No internet service'     |\n",
    "| StreamingTV      | Indicates if the customer has streaming TV        | String    | 'Yes', 'No', 'No internet service'     |\n",
    "| StreamingMovies  | Indicates if the customer has streaming movies    | String    | 'Yes', 'No', 'No internet service'     |\n",
    "| Contract         | Type of contract                                  | String    | 'Month-to-month', 'One year', 'Two year' |\n",
    "| PaperlessBilling | Indicates if the customer has paperless billing  | Boolean   | True (1), False (0)                     |\n",
    "| PaymentMethod    | Payment method                                    | String    | 'Electronic check', 'Mailed check', 'Bank transfer (automatic)', 'Credit card (automatic)' |\n",
    "| MonthlyCharges   | Monthly charges                                   | Float     |                                          |\n",
    "| TotalCharges     | Total charges                                     | Float     |                                          |\n",
    "| Churn            | Indicates if the customer churned                | Boolean   | True (1), False "
   ]
  }
 ],
 "metadata": {
  "language_info": {
   "name": "python"
  }
 },
 "nbformat": 4,
 "nbformat_minor": 2
}

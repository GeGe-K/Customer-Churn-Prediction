{
 "cells": [
  {
   "cell_type": "markdown",
   "metadata": {},
   "source": [
    "## CUSTOMER CHURN PREDICTION - Vodafone Coporation"
   ]
  },
  {
   "cell_type": "markdown",
   "metadata": {},
   "source": [
    "### Introduction:\n",
    "Customer churn prediction is a critical task for businesses operating in subscription-based industries such as telecommunications, software as a service (SaaS), and retail. Churn refers to the phenomenon where customers discontinue their relationship with a company or (unsubscribe) stop using its services. It is essential for businesses to identify and understand the factors that contribute to churn in order to take proactive measures to retain customers and maximize revenue."
   ]
  },
  {
   "cell_type": "markdown",
   "metadata": {},
   "source": [
    "### Business Understanding:\n",
    "#### **Project Scenario**\n",
    "\n",
    "In today's world of machine leaening, most companies build classification models to perform churn analysis on their customers. We have been tasked to create a prediction model for a telecommunication compant to help predict if a customer will churn or not. We are also to help them understand their data and know what factors affect the rate at which customers stop using their network to understand their data.\n",
    "\n",
    "#### **Hypothesis**\n",
    " Null hypothesis - There is a dominant attribute that affects churn\n",
    "   \n",
    " \n",
    "Alternative hypothesis - There is no dominant attribute that affects churn\n",
    "\n",
    "#### **Analytical Questions**\n",
    " \n",
    "1. What is the total churn rate?\n",
    "2. How does the different boolean attributes affect the churn?\n",
    "3. How does the different non-boolean attributes affect the churn?\n",
    "4. How does the different numerical attributes affect the churn?\n",
    "5. How does tenure affect the churn?\n",
    "6. How does the type of internet service affect churn?\n",
    "7. How does the type of contract affect the churn?\n",
    "8. How does the type of payment method affect the churn?"
   ]
  },
  {
   "cell_type": "markdown",
   "metadata": {},
   "source": [
    "### Data Understanding:"
   ]
  },
  {
   "cell_type": "markdown",
   "metadata": {},
   "source": [
    "The first dataset consists of the first 3000 records of the companies customer churn data. This dataset was stored in a remote database and to access it, a connection to the Microsoft SQL Server database using an Open Database Connectivity (ODBC) library such as pyodbc or an Object-Relational Mapping (ORM) library like SQLAlchemy needs to be established. This allows for querying the database and retrieving the records.\n",
    "\n",
    "The second dataset is a csv file, with 2000 records and the third dataset is the test dataset.\n",
    "\n",
    "The following describes the columns present in the data.\n",
    "\n",
    "| Variable         | Description                                       | Data Type | Possible Values                          |\n",
    "|------------------|---------------------------------------------------|-----------|------------------------------------------|\n",
    "| customerID       | Unique identifier for each customer               | String    |                                          |\n",
    "| gender           | Gender of the customer                            | String    | 'Male', 'Female'                        |\n",
    "| SeniorCitizen    | Indicates if the customer is a senior citizen     | Boolean   | True (1), False (0)                     |\n",
    "| Partner          | Indicates if the customer has a partner           | Boolean   | True (1), False (0)                     |\n",
    "| Dependents       | Indicates if the customer has dependents          | Boolean   | True (1), False (0)                     |\n",
    "| tenure           | Number of months the customer has been with the company | Integer |                                          |\n",
    "| PhoneService     | Indicates if the customer has phone service       | Boolean   | True (1), False (0)                     |\n",
    "| MultipleLines    | Indicates if the customer has multiple lines      | String    | 'Yes', 'No', 'No phone service'        |\n",
    "| InternetService  | Type of internet service                          | String    | 'DSL', 'Fiber optic', 'No'             |\n",
    "| OnlineSecurity   | Indicates if the customer has online security     | String    | 'Yes', 'No', 'No internet service'     |\n",
    "| DeviceProtection | Indicates if the customer has device protection   | String    | 'Yes', 'No', 'No internet service'     |\n",
    "| TechSupport      | Indicates if the customer has tech support        | String    | 'Yes', 'No', 'No internet service'     |\n",
    "| StreamingTV      | Indicates if the customer has streaming TV        | String    | 'Yes', 'No', 'No internet service'     |\n",
    "| StreamingMovies  | Indicates if the customer has streaming movies    | String    | 'Yes', 'No', 'No internet service'     |\n",
    "| Contract         | Type of contract                                  | String    | 'Month-to-month', 'One year', 'Two year' |\n",
    "| PaperlessBilling | Indicates if the customer has paperless billing  | Boolean   | True (1), False (0)                     |\n",
    "| PaymentMethod    | Payment method                                    | String    | 'Electronic check', 'Mailed check', 'Bank transfer (automatic)', 'Credit card (automatic)' |\n",
    "| MonthlyCharges   | Monthly charges                                   | Float     |                                          |\n",
    "| TotalCharges     | Total charges                                     | Float     |                                          |\n",
    "| Churn            | Indicates if the customer churned                | Boolean   | True (1), False "
   ]
  },
  {
   "cell_type": "markdown",
   "metadata": {},
   "source": [
    "#### **Data Connection**"
   ]
  },
  {
   "cell_type": "code",
   "execution_count": 6,
   "metadata": {},
   "outputs": [],
   "source": [
    "# Import the necessary packages\n",
    "\n",
    "# Data handling\n",
    "import pyodbc\n",
    "import pandas as pd\n",
    "import numpy as np\n",
    "\n",
    "# For creating connection\n",
    "import pyodbc\n",
    "\n",
    "# For loading environment variables\n",
    "from dotenv import dotenv_values\n",
    "import dotenv\n",
    "\n",
    "\n",
    "# Visualization\n",
    "import matplotlib.pyplot as plt\n",
    "import seaborn as sns\n",
    "\n",
    "# Other packages\n",
    "import os\n",
    "import warnings\n",
    "warnings.filterwarnings('ignore')"
   ]
  },
  {
   "cell_type": "code",
   "execution_count": 7,
   "metadata": {},
   "outputs": [],
   "source": [
    "# Load environment variables from .env file into a dictionary\n",
    "environment_variables = dotenv_values('.env')"
   ]
  },
  {
   "cell_type": "code",
   "execution_count": 8,
   "metadata": {},
   "outputs": [],
   "source": [
    "# Get the values for the credentials you set in the '.env' file\n",
    "server = environment_variables.get(\"SERVER\")\n",
    "database = environment_variables.get(\"DATABASE\")\n",
    "username = environment_variables.get(\"USERNAME\")\n",
    "password = environment_variables.get(\"PASSWORD\")"
   ]
  },
  {
   "cell_type": "code",
   "execution_count": 9,
   "metadata": {},
   "outputs": [],
   "source": [
    "#creating a connection sring to the SQL  database\n",
    "connection_string = f\"DRIVER={{SQL Server}};SERVER={server};DATABASE={database};UID={username};PWD={password};MARS_Connection=yes;MinProtocolVersion=TLSv1.2;\""
   ]
  },
  {
   "cell_type": "code",
   "execution_count": 10,
   "metadata": {},
   "outputs": [],
   "source": [
    "#creating a connection\n",
    "connection = pyodbc.connect(connection_string)"
   ]
  },
  {
   "cell_type": "code",
   "execution_count": 11,
   "metadata": {},
   "outputs": [],
   "source": [
    "#loading the first data set from the database\n",
    "query = \"Select * from dbo.LP2_Telco_churn_first_3000\"\n",
    "\n",
    "data1 = pd.read_sql(query, connection)"
   ]
  }
 ],
 "metadata": {
  "kernelspec": {
   "display_name": "venv",
   "language": "python",
   "name": "python3"
  },
  "language_info": {
   "codemirror_mode": {
    "name": "ipython",
    "version": 3
   },
   "file_extension": ".py",
   "mimetype": "text/x-python",
   "name": "python",
   "nbconvert_exporter": "python",
   "pygments_lexer": "ipython3",
   "version": "3.12.0"
  }
 },
 "nbformat": 4,
 "nbformat_minor": 2
}
